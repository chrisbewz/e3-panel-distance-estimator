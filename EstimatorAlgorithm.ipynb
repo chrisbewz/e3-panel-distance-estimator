{
 "cells": [
  {
   "cell_type": "markdown",
   "source": [
    "## Importando Dependências"
   ],
   "metadata": {
    "collapsed": false
   }
  },
  {
   "cell_type": "code",
   "execution_count": 1,
   "metadata": {
    "collapsed": true,
    "ExecuteTime": {
     "end_time": "2023-07-05T16:43:47.839540Z",
     "start_time": "2023-07-05T16:43:47.829537400Z"
    }
   },
   "outputs": [],
   "source": [
    "import numpy as np\n",
    "import pandas as pd\n",
    "import matplotlib.pyplot as plt\n",
    "import seaborn as sns\n",
    "import math\n",
    "from IPython.display import Latex\n"
   ]
  },
  {
   "cell_type": "markdown",
   "source": [
    "## Declarando a Classe de Teste"
   ],
   "metadata": {
    "collapsed": false
   }
  },
  {
   "cell_type": "code",
   "execution_count": 2,
   "outputs": [],
   "source": [
    "class Estimator:\n",
    "\n",
    "    _w = None\n",
    "    _k = None\n",
    "    _a = 150\n",
    "    _gainSpace = None\n",
    "    _limitRatio = 0.25\n",
    "    # Lista de valores para b de 0 -> 1500mm\n",
    "    # 150 Samples gerados incluindo o ultimo valor \"1500\"mm\n",
    "    # a -> 150 mm\n",
    "\n",
    "    b_values = None\n",
    "    c_values = None\n",
    "\n",
    "    def __init__(self,width:float,kFactor:float,steps:int) -> None:\n",
    "\n",
    "        self._w = width\n",
    "        self._k = kFactor\n",
    "        self.b_values = np.linspace(0,width,steps,True)\n",
    "        self._gainSpace = np.linspace(0,1,steps,True)\n",
    "        self.c_values = [np.sqrt(np.power(b_val,2) + np.power(150,2)) for b_val in self.b_values]\n",
    "\n",
    "\n",
    "    @property\n",
    "    def directDistanceSamples(self):\n",
    "        return self.c_values\n",
    "\n",
    "    @property\n",
    "    def gainSpace(self):\n",
    "        return self._gainSpace\n",
    "\n",
    "    @property\n",
    "    def verticalSamples(self):\n",
    "        return self.b_values\n",
    "\n",
    "    @property\n",
    "    def boxWidthValue(self):\n",
    "        return self._w\n",
    "\n",
    "    @property\n",
    "    def horizontalSample(self):\n",
    "        return self._a\n",
    "\n",
    "\n",
    "    def Expression(self,directDistance,vDistance,boxWidth,hDistance):\n",
    "\n",
    "        # Apenas retorna a distância direta para n retornar erros\n",
    "        if vDistance == 0 and hDistance==0: return self.RateSingleAxisDistance(directDistance)\n",
    "\n",
    "        if vDistance == 0 and hDistance != 0:\n",
    "            return self.RateSingleAxisDistance(hDistance)\n",
    "\n",
    "        if hDistance == 0 and vDistance != 0:\n",
    "            return self.RateSingleAxisDistance(directDistance)\n",
    "\n",
    "        vThreshold = vDistance/hDistance\n",
    "        hThreshold = hDistance < (0.1 * vDistance)\n",
    "\n",
    "        # Se o valor da distância horizontal for muito menor ao valor vertical vDist >> hDist\n",
    "        # O ponto de conexão está próx a lateral da caixa\n",
    "        # Considera-se somente o valor da distância direta = distancia vertical adicionada de uma fração do seu valor moderada pela variavel \"limiting ratio\"\n",
    "        if hThreshold : return self.RateSingleAxisDistance(vDistance)\n",
    "\n",
    "        # Se o valor da distância vertical for muito menor ao valor horizontal vDist << hDistance\n",
    "        # O ponto de conexão está próx a altura \"y\" do chicote\n",
    "        # Considera-se somente o valor da distância direta adicionada de uma fração do seu valor moderada pela variavel \"limiting ratio\"\n",
    "        if vThreshold < .1: return directDistance + (self._limitRatio * directDistance)\n",
    "\n",
    "        denominator = (boxWidth - ( 2 * hDistance ))\n",
    "        raw_decreasing_factor = (vDistance / denominator)\n",
    "        flattened_factor = np.exp(-raw_decreasing_factor)\n",
    "        result = (directDistance * (1 + self.CalibrateWeigths(flattened_factor,self._limitRatio)))\n",
    "        return result\n",
    "\n",
    "    def ExpressionTest(self,directDistance,vDistance,boxWidth,hDistance,gain):\n",
    "        return self.Expression(directDistance,vDistance,boxWidth,hDistance)*gain\n",
    "\n",
    "    def RateSingleAxisDistance(self,distance):\n",
    "        return distance + (self._limitRatio * distance)\n",
    "\n",
    "    def CalibrateWeigths(self,currentFactor,limit):\n",
    "        #Calcula a diff abosulta entre o valor atual e o limite especificado\n",
    "        diff = np.absolute(limit - currentFactor)\n",
    "\n",
    "        if currentFactor < limit:\n",
    "            return currentFactor + diff\n",
    "        else:\n",
    "            return currentFactor - diff\n",
    "\n",
    "\n",
    "\n"
   ],
   "metadata": {
    "collapsed": false,
    "ExecuteTime": {
     "end_time": "2023-07-05T16:43:48.038542Z",
     "start_time": "2023-07-05T16:43:47.833538Z"
    }
   }
  },
  {
   "cell_type": "markdown",
   "source": [
    "## Testes"
   ],
   "metadata": {
    "collapsed": false
   }
  },
  {
   "cell_type": "code",
   "execution_count": 3,
   "outputs": [],
   "source": [
    "\n",
    "step = 150\n",
    "expTest = Estimator(1300, 1, step)\n",
    "rng = range(0,len(expTest.directDistanceSamples))\n",
    "markers = [25,50,75,100,149]\n",
    "\n"
   ],
   "metadata": {
    "collapsed": false,
    "ExecuteTime": {
     "end_time": "2023-07-05T16:43:48.224545Z",
     "start_time": "2023-07-05T16:43:48.039554700Z"
    }
   }
  },
  {
   "cell_type": "markdown",
   "source": [
    "## Bases de Cálculo e Dados Gráficos"
   ],
   "metadata": {
    "collapsed": false
   }
  },
  {
   "cell_type": "markdown",
   "source": [
    "### Distância Estimada - K = 1"
   ],
   "metadata": {
    "collapsed": false
   }
  },
  {
   "cell_type": "code",
   "execution_count": 4,
   "outputs": [],
   "source": [
    "estimated_dist_no_gain = [expTest.Expression(expTest.directDistanceSamples[idx],expTest.verticalSamples[idx],expTest.boxWidthValue,expTest.horizontalSample) for idx in rng]"
   ],
   "metadata": {
    "collapsed": false,
    "ExecuteTime": {
     "end_time": "2023-07-05T16:43:48.429557Z",
     "start_time": "2023-07-05T16:43:48.226551100Z"
    }
   }
  },
  {
   "cell_type": "markdown",
   "source": [
    "###  Sobra Absoluta - D/C"
   ],
   "metadata": {
    "collapsed": false
   }
  },
  {
   "cell_type": "code",
   "execution_count": 5,
   "outputs": [],
   "source": [
    "estimated_dist_ratio = [estimated_dist_no_gain[idx]/expTest.directDistanceSamples[idx] for idx in rng]\n"
   ],
   "metadata": {
    "collapsed": false,
    "ExecuteTime": {
     "end_time": "2023-07-05T16:43:48.618553900Z",
     "start_time": "2023-07-05T16:43:48.431551Z"
    }
   }
  },
  {
   "cell_type": "markdown",
   "source": [
    "### Soma das Alturas Verticais e Horizontais - A + B"
   ],
   "metadata": {
    "collapsed": false
   }
  },
  {
   "cell_type": "code",
   "execution_count": 6,
   "outputs": [],
   "source": [
    "ab_ratio = [(bVal + expTest.horizontalSample) for bVal in expTest.verticalSamples]"
   ],
   "metadata": {
    "collapsed": false,
    "ExecuteTime": {
     "end_time": "2023-07-05T16:43:48.826574200Z",
     "start_time": "2023-07-05T16:43:48.620580300Z"
    }
   }
  },
  {
   "cell_type": "markdown",
   "source": [
    "### Comportamento da Distância Estimada em Função de K"
   ],
   "metadata": {
    "collapsed": false
   }
  },
  {
   "cell_type": "code",
   "execution_count": 7,
   "outputs": [],
   "source": [
    "last_y_k_Values =[expTest.ExpressionTest(expTest.directDistanceSamples[step-1],expTest.verticalSamples[step-1],expTest.boxWidthValue,expTest.horizontalSample,expTest.gainSpace[idx]) for idx in rng]"
   ],
   "metadata": {
    "collapsed": false,
    "ExecuteTime": {
     "end_time": "2023-07-05T16:43:49.048566400Z",
     "start_time": "2023-07-05T16:43:48.830561200Z"
    }
   }
  },
  {
   "cell_type": "markdown",
   "source": [
    "# Gráficos"
   ],
   "metadata": {
    "collapsed": false
   }
  },
  {
   "cell_type": "markdown",
   "source": [
    "## Sobra de Comprimento - Estimativa"
   ],
   "metadata": {
    "collapsed": false
   }
  },
  {
   "cell_type": "code",
   "execution_count": 8,
   "outputs": [
    {
     "data": {
      "text/plain": "<AxesSubplot:xlabel='Estimado', ylabel='D/C'>"
     },
     "execution_count": 8,
     "metadata": {},
     "output_type": "execute_result"
    },
    {
     "data": {
      "text/plain": "<Figure size 432x288 with 1 Axes>",
      "image/png": "[encoded data removed]"
     },
     "metadata": {},
     "output_type": "display_data"
    }
   ],
   "source": [
    "estimated_cols = ['Estimado','D/C']\n",
    "estimated_frame = pd.DataFrame(np.array([estimated_dist_no_gain,estimated_dist_ratio]))\n",
    "transposed_estimate = estimated_frame.T\n",
    "transposed_estimate.columns = estimated_cols\n",
    "sns.lineplot(\n",
    "    x=r\"Estimado\",\n",
    "    y=r\"D/C\",\n",
    "    data=transposed_estimate\n",
    ")"
   ],
   "metadata": {
    "collapsed": false,
    "ExecuteTime": {
     "end_time": "2023-07-05T16:43:49.286573400Z",
     "start_time": "2023-07-05T16:43:49.051563700Z"
    }
   }
  },
  {
   "cell_type": "markdown",
   "source": [
    "## Relação Entre 'A+B'"
   ],
   "metadata": {
    "collapsed": false
   }
  },
  {
   "cell_type": "code",
   "execution_count": 9,
   "outputs": [
    {
     "data": {
      "text/plain": "<AxesSubplot:xlabel='$D_{dir}$', ylabel='$D_{dir}(D_{vert},D_{hor})$'>"
     },
     "execution_count": 9,
     "metadata": {},
     "output_type": "execute_result"
    },
    {
     "data": {
      "text/plain": "<Figure size 432x288 with 1 Axes>",
      "image/png": "[encoded data removed]"
     },
     "metadata": {},
     "output_type": "display_data"
    }
   ],
   "source": [
    "# Relação entre C e os valores de A e B\n",
    "\n",
    "ab_cols = [r'$D_{dir}$',r'$D_{dir}(D_{vert},D_{hor})$']\n",
    "\n",
    "ab_frame = pd.DataFrame(np.array([\n",
    "    expTest.directDistanceSamples,\n",
    "    ab_ratio\n",
    "]))\n",
    "\n",
    "ab_transposed = ab_frame.T\n",
    "ab_transposed.columns = ab_cols\n",
    "\n",
    "sns.lineplot(\n",
    "    x=ab_transposed.columns[0],\n",
    "    y=ab_transposed.columns[1],\n",
    "    data = ab_transposed\n",
    ")\n",
    "\n",
    "\n",
    "#plt.plot(expTest.directDistanceSamples,ab_ratio,'-gD',markevery=markers)\n",
    "#plt.ylabel(\"C [mm]\")\n",
    "#plt.title(\"C(A,B) [mm]\")\n",
    "#plt.xlabel(r'$A + B$')"
   ],
   "metadata": {
    "collapsed": false,
    "ExecuteTime": {
     "end_time": "2023-07-05T16:43:49.775595600Z",
     "start_time": "2023-07-05T16:43:49.302568300Z"
    }
   }
  },
  {
   "cell_type": "markdown",
   "source": [
    "### Preview"
   ],
   "metadata": {
    "collapsed": false
   }
  },
  {
   "cell_type": "code",
   "execution_count": 10,
   "outputs": [
    {
     "data": {
      "text/plain": "       $D_{dir}$  $D_{dir}(D_{vert},D_{hor})$\n0     150.000000                   150.000000\n1     150.253528                   158.724832\n2     151.011558                   167.449664\n3     152.266557                   176.174497\n4     154.006374                   184.899329\n..           ...                          ...\n145  1273.962208                  1415.100671\n146  1282.626763                  1423.825503\n147  1291.292129                  1432.550336\n148  1299.958291                  1441.275168\n149  1308.625233                  1450.000000\n\n[150 rows x 2 columns]",
      "text/html": "<div>\n<style scoped>\n    .dataframe tbody tr th:only-of-type {\n        vertical-align: middle;\n    }\n\n    .dataframe tbody tr th {\n        vertical-align: top;\n    }\n\n    .dataframe thead th {\n        text-align: right;\n    }\n</style>\n<table border=\"1\" class=\"dataframe\">\n  <thead>\n    <tr style=\"text-align: right;\">\n      <th></th>\n      <th>$D_{dir}$</th>\n      <th>$D_{dir}(D_{vert},D_{hor})$</th>\n    </tr>\n  </thead>\n  <tbody>\n    <tr>\n      <th>0</th>\n      <td>150.000000</td>\n      <td>150.000000</td>\n    </tr>\n    <tr>\n      <th>1</th>\n      <td>150.253528</td>\n      <td>158.724832</td>\n    </tr>\n    <tr>\n      <th>2</th>\n      <td>151.011558</td>\n      <td>167.449664</td>\n    </tr>\n    <tr>\n      <th>3</th>\n      <td>152.266557</td>\n      <td>176.174497</td>\n    </tr>\n    <tr>\n      <th>4</th>\n      <td>154.006374</td>\n      <td>184.899329</td>\n    </tr>\n    <tr>\n      <th>...</th>\n      <td>...</td>\n      <td>...</td>\n    </tr>\n    <tr>\n      <th>145</th>\n      <td>1273.962208</td>\n      <td>1415.100671</td>\n    </tr>\n    <tr>\n      <th>146</th>\n      <td>1282.626763</td>\n      <td>1423.825503</td>\n    </tr>\n    <tr>\n      <th>147</th>\n      <td>1291.292129</td>\n      <td>1432.550336</td>\n    </tr>\n    <tr>\n      <th>148</th>\n      <td>1299.958291</td>\n      <td>1441.275168</td>\n    </tr>\n    <tr>\n      <th>149</th>\n      <td>1308.625233</td>\n      <td>1450.000000</td>\n    </tr>\n  </tbody>\n</table>\n<p>150 rows × 2 columns</p>\n</div>"
     },
     "execution_count": 10,
     "metadata": {},
     "output_type": "execute_result"
    }
   ],
   "source": [
    "ab_transposed"
   ],
   "metadata": {
    "collapsed": false,
    "ExecuteTime": {
     "end_time": "2023-07-05T16:43:49.835581700Z",
     "start_time": "2023-07-05T16:43:49.780615Z"
    }
   }
  },
  {
   "cell_type": "markdown",
   "source": [
    "## Distância Estimada - D [mm]"
   ],
   "metadata": {
    "collapsed": false
   }
  },
  {
   "cell_type": "markdown",
   "source": [
    "### Fórmula"
   ],
   "metadata": {
    "collapsed": false
   }
  },
  {
   "cell_type": "code",
   "execution_count": 11,
   "outputs": [
    {
     "data": {
      "text/plain": "<IPython.core.display.Latex object>",
      "text/latex": "\\begin{aligned}\n    \\begin{equation}\n        \\huge \\mathbf{D} = D_{dir} \\cdot \\Bigl[ 1 + e^{- \\bigl( \\frac{D_{vert}}{B_{width} - 2\\cdot D_{hor}} \\bigr) } \\Bigr] \\cdot K\n    \\end{equation}\n\\end{aligned}\n"
     },
     "metadata": {},
     "output_type": "display_data"
    }
   ],
   "source": [
    "%%latex\n",
    "\\begin{aligned}\n",
    "    \\begin{equation}\n",
    "        \\huge \\mathbf{D} = D_{dir} \\cdot \\Bigl[ 1 + e^{- \\bigl( \\frac{D_{vert}}{B_{width} - 2\\cdot D_{hor}} \\bigr) } \\Bigr] \\cdot K\n",
    "    \\end{equation}\n",
    "\\end{aligned}"
   ],
   "metadata": {
    "collapsed": false,
    "ExecuteTime": {
     "end_time": "2023-07-05T16:43:49.836582200Z",
     "start_time": "2023-07-05T16:43:49.811578200Z"
    }
   }
  },
  {
   "cell_type": "markdown",
   "source": [
    "##### Onde\n",
    "\n",
    "- $ \\large D$ = Distância Estimada [mm]\n",
    "- $ \\large D_{dir}$ = Distância direta entre $P_{1}$ e $P_{2}$\n",
    "- $ \\large D_{vert}$ = Distância vertical entre $P_{1}$ e $P_{2}$\n",
    "- $ \\large D_{hor}$ = Distância horizontal entre $P_{1}$ e $P_{2}$\n",
    "- $ \\large K$ = Ganho Limite\n",
    "- $ \\large B_{width}$ = Largura atual da caixa"
   ],
   "metadata": {
    "collapsed": false
   }
  },
  {
   "cell_type": "code",
   "execution_count": 12,
   "outputs": [
    {
     "data": {
      "text/plain": "<AxesSubplot:xlabel='$D_{dir} [mm]$', ylabel='D[mm]'>"
     },
     "execution_count": 12,
     "metadata": {},
     "output_type": "execute_result"
    },
    {
     "data": {
      "text/plain": "<Figure size 432x288 with 1 Axes>",
      "image/png": "[encoded data removed]"
     },
     "metadata": {},
     "output_type": "display_data"
    }
   ],
   "source": [
    "\n",
    "d_estimated_cols = [r\"$D_{dir} [mm]$\",r'D[mm]']\n",
    "\n",
    "d_estimated_frame = pd.DataFrame(np.array([\n",
    "    expTest.directDistanceSamples,\n",
    "    estimated_dist_no_gain\n",
    "])).T\n",
    "\n",
    "d_estimated_frame.columns = d_estimated_cols\n",
    "\n",
    "sns.lineplot(\n",
    "    x=d_estimated_frame.columns[0],\n",
    "    y=d_estimated_frame.columns[1],\n",
    "    data=d_estimated_frame\n",
    ")\n"
   ],
   "metadata": {
    "collapsed": false,
    "ExecuteTime": {
     "end_time": "2023-07-05T16:43:50.134585800Z",
     "start_time": "2023-07-05T16:43:49.854583400Z"
    }
   }
  },
  {
   "cell_type": "markdown",
   "source": [],
   "metadata": {
    "collapsed": false
   }
  },
  {
   "cell_type": "markdown",
   "source": [
    "### Preview"
   ],
   "metadata": {
    "collapsed": false
   }
  },
  {
   "cell_type": "code",
   "execution_count": 13,
   "outputs": [
    {
     "data": {
      "text/plain": "     $D_{dir} [mm]$        D[mm]\n0        150.000000   187.500000\n1        150.253528   187.816910\n2        151.011558   188.764448\n3        152.266557   190.333196\n4        154.006374   192.507967\n..              ...          ...\n145     1273.962208  1592.452760\n146     1282.626763  1603.283454\n147     1291.292129  1614.115162\n148     1299.958291  1624.947864\n149     1308.625233  1635.781541\n\n[150 rows x 2 columns]",
      "text/html": "<div>\n<style scoped>\n    .dataframe tbody tr th:only-of-type {\n        vertical-align: middle;\n    }\n\n    .dataframe tbody tr th {\n        vertical-align: top;\n    }\n\n    .dataframe thead th {\n        text-align: right;\n    }\n</style>\n<table border=\"1\" class=\"dataframe\">\n  <thead>\n    <tr style=\"text-align: right;\">\n      <th></th>\n      <th>$D_{dir} [mm]$</th>\n      <th>D[mm]</th>\n    </tr>\n  </thead>\n  <tbody>\n    <tr>\n      <th>0</th>\n      <td>150.000000</td>\n      <td>187.500000</td>\n    </tr>\n    <tr>\n      <th>1</th>\n      <td>150.253528</td>\n      <td>187.816910</td>\n    </tr>\n    <tr>\n      <th>2</th>\n      <td>151.011558</td>\n      <td>188.764448</td>\n    </tr>\n    <tr>\n      <th>3</th>\n      <td>152.266557</td>\n      <td>190.333196</td>\n    </tr>\n    <tr>\n      <th>4</th>\n      <td>154.006374</td>\n      <td>192.507967</td>\n    </tr>\n    <tr>\n      <th>...</th>\n      <td>...</td>\n      <td>...</td>\n    </tr>\n    <tr>\n      <th>145</th>\n      <td>1273.962208</td>\n      <td>1592.452760</td>\n    </tr>\n    <tr>\n      <th>146</th>\n      <td>1282.626763</td>\n      <td>1603.283454</td>\n    </tr>\n    <tr>\n      <th>147</th>\n      <td>1291.292129</td>\n      <td>1614.115162</td>\n    </tr>\n    <tr>\n      <th>148</th>\n      <td>1299.958291</td>\n      <td>1624.947864</td>\n    </tr>\n    <tr>\n      <th>149</th>\n      <td>1308.625233</td>\n      <td>1635.781541</td>\n    </tr>\n  </tbody>\n</table>\n<p>150 rows × 2 columns</p>\n</div>"
     },
     "execution_count": 13,
     "metadata": {},
     "output_type": "execute_result"
    }
   ],
   "source": [
    "d_estimated_frame"
   ],
   "metadata": {
    "collapsed": false,
    "ExecuteTime": {
     "end_time": "2023-07-05T16:43:50.135587900Z",
     "start_time": "2023-07-05T16:43:50.053589300Z"
    }
   }
  },
  {
   "cell_type": "markdown",
   "source": [
    "## Comprimento Estimado em Função do Ganho limite (K)"
   ],
   "metadata": {
    "collapsed": false
   }
  },
  {
   "cell_type": "code",
   "execution_count": 14,
   "outputs": [
    {
     "data": {
      "text/plain": "<AxesSubplot:xlabel='K', ylabel='D [mm]'>"
     },
     "execution_count": 14,
     "metadata": {},
     "output_type": "execute_result"
    },
    {
     "data": {
      "text/plain": "<Figure size 432x288 with 1 Axes>",
      "image/png": "[encoded data removed]"
     },
     "metadata": {},
     "output_type": "display_data"
    }
   ],
   "source": [
    "#plt.plot(expTest.gainSpace,last_y_k_Values,'-gD',markevery=markers)\n",
    "#plt.ylabel(\"D [mm]\")\n",
    "#plt.title(rf\"$D(150)(K)$\")\n",
    "#plt.xlabel('K')\n",
    "\n",
    "estimated_k_related_framecols = [rf\"K\",'D [mm]']\n",
    "estimated_k_related_frame = pd.DataFrame(np.array([\n",
    "    expTest.gainSpace,\n",
    "    last_y_k_Values\n",
    "])).T\n",
    "\n",
    "estimated_k_related_frame.columns = estimated_k_related_framecols\n",
    "\n",
    "sns.lineplot(\n",
    "    x=estimated_k_related_frame.columns[0],\n",
    "    y=estimated_k_related_frame.columns[1],\n",
    "    data=estimated_k_related_frame\n",
    ")\n"
   ],
   "metadata": {
    "collapsed": false,
    "ExecuteTime": {
     "end_time": "2023-07-05T16:43:50.389592400Z",
     "start_time": "2023-07-05T16:43:50.062587700Z"
    }
   }
  },
  {
   "cell_type": "markdown",
   "source": [
    "### Preview"
   ],
   "metadata": {
    "collapsed": false
   }
  },
  {
   "cell_type": "code",
   "execution_count": 15,
   "outputs": [
    {
     "data": {
      "text/plain": "            K       D [mm]\n0    0.000000     0.000000\n1    0.006711    10.978400\n2    0.013423    21.956799\n3    0.020134    32.935199\n4    0.026846    43.913598\n..        ...          ...\n145  0.973154  1591.867943\n146  0.979866  1602.846342\n147  0.986577  1613.824742\n148  0.993289  1624.803141\n149  1.000000  1635.781541\n\n[150 rows x 2 columns]",
      "text/html": "<div>\n<style scoped>\n    .dataframe tbody tr th:only-of-type {\n        vertical-align: middle;\n    }\n\n    .dataframe tbody tr th {\n        vertical-align: top;\n    }\n\n    .dataframe thead th {\n        text-align: right;\n    }\n</style>\n<table border=\"1\" class=\"dataframe\">\n  <thead>\n    <tr style=\"text-align: right;\">\n      <th></th>\n      <th>K</th>\n      <th>D [mm]</th>\n    </tr>\n  </thead>\n  <tbody>\n    <tr>\n      <th>0</th>\n      <td>0.000000</td>\n      <td>0.000000</td>\n    </tr>\n    <tr>\n      <th>1</th>\n      <td>0.006711</td>\n      <td>10.978400</td>\n    </tr>\n    <tr>\n      <th>2</th>\n      <td>0.013423</td>\n      <td>21.956799</td>\n    </tr>\n    <tr>\n      <th>3</th>\n      <td>0.020134</td>\n      <td>32.935199</td>\n    </tr>\n    <tr>\n      <th>4</th>\n      <td>0.026846</td>\n      <td>43.913598</td>\n    </tr>\n    <tr>\n      <th>...</th>\n      <td>...</td>\n      <td>...</td>\n    </tr>\n    <tr>\n      <th>145</th>\n      <td>0.973154</td>\n      <td>1591.867943</td>\n    </tr>\n    <tr>\n      <th>146</th>\n      <td>0.979866</td>\n      <td>1602.846342</td>\n    </tr>\n    <tr>\n      <th>147</th>\n      <td>0.986577</td>\n      <td>1613.824742</td>\n    </tr>\n    <tr>\n      <th>148</th>\n      <td>0.993289</td>\n      <td>1624.803141</td>\n    </tr>\n    <tr>\n      <th>149</th>\n      <td>1.000000</td>\n      <td>1635.781541</td>\n    </tr>\n  </tbody>\n</table>\n<p>150 rows × 2 columns</p>\n</div>"
     },
     "execution_count": 15,
     "metadata": {},
     "output_type": "execute_result"
    }
   ],
   "source": [
    "estimated_k_related_frame"
   ],
   "metadata": {
    "collapsed": false,
    "ExecuteTime": {
     "end_time": "2023-07-05T16:43:50.391595400Z",
     "start_time": "2023-07-05T16:43:50.273592200Z"
    }
   }
  },
  {
   "cell_type": "markdown",
   "source": [
    "## Dataframe dos Resultados"
   ],
   "metadata": {
    "collapsed": false
   }
  },
  {
   "cell_type": "code",
   "execution_count": 16,
   "outputs": [],
   "source": [
    "arr = [\n",
    "    expTest.verticalSamples,\n",
    "    expTest.directDistanceSamples,\n",
    "    estimated_dist_no_gain,\n",
    "    ab_ratio,\n",
    "    last_y_k_Values,\n",
    "    estimated_dist_ratio\n",
    "]\n",
    "\n",
    "columns = [\"Vertical Distance [B]\",\"Direct Distance [C]\",\"Estimated Distance [D]\",\"A + B\",\"D(150)(K)\",\"D/C\"]\n",
    "\n",
    "ar = np.array(arr)\n",
    "\n",
    "df = pd.DataFrame(ar).T\n",
    "df.columns = columns"
   ],
   "metadata": {
    "collapsed": false,
    "ExecuteTime": {
     "end_time": "2023-07-05T16:43:50.391595400Z",
     "start_time": "2023-07-05T16:43:50.310592700Z"
    }
   }
  },
  {
   "cell_type": "markdown",
   "source": [
    "## Resultado Completo"
   ],
   "metadata": {
    "collapsed": false
   }
  },
  {
   "cell_type": "code",
   "execution_count": 17,
   "outputs": [
    {
     "data": {
      "text/plain": "     Vertical Distance [B]  Direct Distance [C]  Estimated Distance [D]  \\\n0                 0.000000           150.000000              187.500000   \n1                 8.724832           150.253528              187.816910   \n2                17.449664           151.011558              188.764448   \n3                26.174497           152.266557              190.333196   \n4                34.899329           154.006374              192.507967   \n..                     ...                  ...                     ...   \n145            1265.100671          1273.962208             1592.452760   \n146            1273.825503          1282.626763             1603.283454   \n147            1282.550336          1291.292129             1614.115162   \n148            1291.275168          1299.958291             1624.947864   \n149            1300.000000          1308.625233             1635.781541   \n\n           A + B    D(150)(K)   D/C  \n0     150.000000     0.000000  1.25  \n1     158.724832    10.978400  1.25  \n2     167.449664    21.956799  1.25  \n3     176.174497    32.935199  1.25  \n4     184.899329    43.913598  1.25  \n..           ...          ...   ...  \n145  1415.100671  1591.867943  1.25  \n146  1423.825503  1602.846342  1.25  \n147  1432.550336  1613.824742  1.25  \n148  1441.275168  1624.803141  1.25  \n149  1450.000000  1635.781541  1.25  \n\n[150 rows x 6 columns]",
      "text/html": "<div>\n<style scoped>\n    .dataframe tbody tr th:only-of-type {\n        vertical-align: middle;\n    }\n\n    .dataframe tbody tr th {\n        vertical-align: top;\n    }\n\n    .dataframe thead th {\n        text-align: right;\n    }\n</style>\n<table border=\"1\" class=\"dataframe\">\n  <thead>\n    <tr style=\"text-align: right;\">\n      <th></th>\n      <th>Vertical Distance [B]</th>\n      <th>Direct Distance [C]</th>\n      <th>Estimated Distance [D]</th>\n      <th>A + B</th>\n      <th>D(150)(K)</th>\n      <th>D/C</th>\n    </tr>\n  </thead>\n  <tbody>\n    <tr>\n      <th>0</th>\n      <td>0.000000</td>\n      <td>150.000000</td>\n      <td>187.500000</td>\n      <td>150.000000</td>\n      <td>0.000000</td>\n      <td>1.25</td>\n    </tr>\n    <tr>\n      <th>1</th>\n      <td>8.724832</td>\n      <td>150.253528</td>\n      <td>187.816910</td>\n      <td>158.724832</td>\n      <td>10.978400</td>\n      <td>1.25</td>\n    </tr>\n    <tr>\n      <th>2</th>\n      <td>17.449664</td>\n      <td>151.011558</td>\n      <td>188.764448</td>\n      <td>167.449664</td>\n      <td>21.956799</td>\n      <td>1.25</td>\n    </tr>\n    <tr>\n      <th>3</th>\n      <td>26.174497</td>\n      <td>152.266557</td>\n      <td>190.333196</td>\n      <td>176.174497</td>\n      <td>32.935199</td>\n      <td>1.25</td>\n    </tr>\n    <tr>\n      <th>4</th>\n      <td>34.899329</td>\n      <td>154.006374</td>\n      <td>192.507967</td>\n      <td>184.899329</td>\n      <td>43.913598</td>\n      <td>1.25</td>\n    </tr>\n    <tr>\n      <th>...</th>\n      <td>...</td>\n      <td>...</td>\n      <td>...</td>\n      <td>...</td>\n      <td>...</td>\n      <td>...</td>\n    </tr>\n    <tr>\n      <th>145</th>\n      <td>1265.100671</td>\n      <td>1273.962208</td>\n      <td>1592.452760</td>\n      <td>1415.100671</td>\n      <td>1591.867943</td>\n      <td>1.25</td>\n    </tr>\n    <tr>\n      <th>146</th>\n      <td>1273.825503</td>\n      <td>1282.626763</td>\n      <td>1603.283454</td>\n      <td>1423.825503</td>\n      <td>1602.846342</td>\n      <td>1.25</td>\n    </tr>\n    <tr>\n      <th>147</th>\n      <td>1282.550336</td>\n      <td>1291.292129</td>\n      <td>1614.115162</td>\n      <td>1432.550336</td>\n      <td>1613.824742</td>\n      <td>1.25</td>\n    </tr>\n    <tr>\n      <th>148</th>\n      <td>1291.275168</td>\n      <td>1299.958291</td>\n      <td>1624.947864</td>\n      <td>1441.275168</td>\n      <td>1624.803141</td>\n      <td>1.25</td>\n    </tr>\n    <tr>\n      <th>149</th>\n      <td>1300.000000</td>\n      <td>1308.625233</td>\n      <td>1635.781541</td>\n      <td>1450.000000</td>\n      <td>1635.781541</td>\n      <td>1.25</td>\n    </tr>\n  </tbody>\n</table>\n<p>150 rows × 6 columns</p>\n</div>"
     },
     "execution_count": 17,
     "metadata": {},
     "output_type": "execute_result"
    }
   ],
   "source": [
    "df"
   ],
   "metadata": {
    "collapsed": false,
    "ExecuteTime": {
     "end_time": "2023-07-05T16:43:50.392592600Z",
     "start_time": "2023-07-05T16:43:50.311593400Z"
    }
   }
  },
  {
   "cell_type": "markdown",
   "source": [
    "## Média de Sobras Absoluta"
   ],
   "metadata": {
    "collapsed": false
   }
  },
  {
   "cell_type": "code",
   "execution_count": 18,
   "outputs": [
    {
     "data": {
      "text/plain": "'25.0%'"
     },
     "execution_count": 18,
     "metadata": {},
     "output_type": "execute_result"
    }
   ],
   "source": [
    "f'{abs(1 - df[\"D/C\"].mean())*100}%'"
   ],
   "metadata": {
    "collapsed": false,
    "ExecuteTime": {
     "end_time": "2023-07-05T16:43:50.393593300Z",
     "start_time": "2023-07-05T16:43:50.327593900Z"
    }
   }
  },
  {
   "cell_type": "code",
   "execution_count": 18,
   "outputs": [],
   "source": [],
   "metadata": {
    "collapsed": false,
    "ExecuteTime": {
     "end_time": "2023-07-05T16:43:50.393593300Z",
     "start_time": "2023-07-05T16:43:50.354591900Z"
    }
   }
  }
 ],
 "metadata": {
  "kernelspec": {
   "display_name": "Python 3",
   "language": "python",
   "name": "python3"
  },
  "language_info": {
   "codemirror_mode": {
    "name": "ipython",
    "version": 2
   },
   "file_extension": ".py",
   "mimetype": "text/x-python",
   "name": "python",
   "nbconvert_exporter": "python",
   "pygments_lexer": "ipython2",
   "version": "2.7.6"
  }
 },
 "nbformat": 4,
 "nbformat_minor": 0
}
